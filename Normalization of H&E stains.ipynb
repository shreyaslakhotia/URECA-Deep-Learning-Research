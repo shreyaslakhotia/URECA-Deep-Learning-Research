{
 "cells": [
  {
   "cell_type": "markdown",
   "id": "43991f05-3840-40ed-8484-6a65c7d3605c",
   "metadata": {},
   "source": [
    "## Function Definition"
   ]
  },
  {
   "cell_type": "code",
   "execution_count": 1,
   "id": "087c698e-593f-4f9e-ba42-bfa62e643bc8",
   "metadata": {},
   "outputs": [],
   "source": [
    "import numpy as np\n",
    "import cv2\n",
    "from matplotlib import pyplot as plt"
   ]
  },
  {
   "cell_type": "code",
   "execution_count": 2,
   "id": "655d4e76-d621-4625-a430-3a65cadebc98",
   "metadata": {},
   "outputs": [],
   "source": [
    "def norm_HnE(img, Io=240, alpha=1, beta=0.15):\n",
    "\n",
    "\n",
    "    ######## Step 1: Convert RGB to OD ###################\n",
    "    ## reference H&E OD matrix.\n",
    "    #Can be updated if you know the best values for your image. \n",
    "    #Otherwise use the following default values. \n",
    "    #Read the above referenced papers on this topic. \n",
    "    HERef = np.array([[0.5626, 0.2159],\n",
    "                      [0.7201, 0.8012],\n",
    "                      [0.4062, 0.5581]])\n",
    "    ### reference maximum stain concentrations for H&E\n",
    "    maxCRef = np.array([1.9705, 1.0308])\n",
    "    \n",
    "    \n",
    "    # extract the height, width and num of channels of image\n",
    "    h, w, c = img.shape\n",
    "    \n",
    "    # reshape image to multiple rows and 3 columns.\n",
    "    #Num of rows depends on the image size (wxh)\n",
    "    img = img.reshape((-1,3))\n",
    "    \n",
    "    # calculate optical density\n",
    "    # OD = −log10(I)  \n",
    "    #OD = -np.log10(img+0.004)  #Use this when reading images with skimage\n",
    "    #Adding 0.004 just to avoid log of zero. \n",
    "    \n",
    "    OD = -np.log10((img.astype(np.float)+1)/Io) #Use this for opencv imread\n",
    "    #Add 1 in case any pixels in the image have a value of 0 (log 0 is indeterminate)\n",
    "    \n",
    "    \n",
    "    ############ Step 2: Remove data with OD intensity less than β ############\n",
    "    # remove transparent pixels (clear region with no tissue)\n",
    "    ODhat = OD[~np.any(OD < beta, axis=1)] #Returns an array where OD values are above beta\n",
    "    #Check by printing ODhat.min()\n",
    "    \n",
    "    ############# Step 3: Calculate SVD on the OD tuples ######################\n",
    "    #Estimate covariance matrix of ODhat (transposed)\n",
    "    # and then compute eigen values & eigenvectors.\n",
    "    eigvals, eigvecs = np.linalg.eigh(np.cov(ODhat.T))\n",
    "    \n",
    "    \n",
    "    ######## Step 4: Create plane from the SVD directions with two largest values ######\n",
    "    #project on the plane spanned by the eigenvectors corresponding to the two \n",
    "    # largest eigenvalues    \n",
    "    That = ODhat.dot(eigvecs[:,1:3]) #Dot product\n",
    "    \n",
    "    ############### Step 5: Project data onto the plane, and normalize to unit length ###########\n",
    "    ############## Step 6: Calculate angle of each point wrt the first SVD direction ########\n",
    "    #find the min and max vectors and project back to OD space\n",
    "    phi = np.arctan2(That[:,1],That[:,0])\n",
    "    \n",
    "    minPhi = np.percentile(phi, alpha)\n",
    "    maxPhi = np.percentile(phi, 100-alpha)\n",
    "    \n",
    "    vMin = eigvecs[:,1:3].dot(np.array([(np.cos(minPhi), np.sin(minPhi))]).T)\n",
    "    vMax = eigvecs[:,1:3].dot(np.array([(np.cos(maxPhi), np.sin(maxPhi))]).T)\n",
    "    \n",
    "    \n",
    "    # a heuristic to make the vector corresponding to hematoxylin first and the \n",
    "    # one corresponding to eosin second\n",
    "    if vMin[0] > vMax[0]:    \n",
    "        HE = np.array((vMin[:,0], vMax[:,0])).T\n",
    "        \n",
    "    else:\n",
    "        HE = np.array((vMax[:,0], vMin[:,0])).T\n",
    "    \n",
    "    \n",
    "    # rows correspond to channels (RGB), columns to OD values\n",
    "    Y = np.reshape(OD, (-1, 3)).T\n",
    "    \n",
    "    # determine concentrations of the individual stains\n",
    "    C = np.linalg.lstsq(HE,Y, rcond=None)[0]\n",
    "    \n",
    "    # normalize stain concentrations\n",
    "    maxC = np.array([np.percentile(C[0,:], 99), np.percentile(C[1,:],99)])\n",
    "    tmp = np.divide(maxC,maxCRef)\n",
    "    C2 = np.divide(C,tmp[:, np.newaxis])\n",
    "    \n",
    "    ###### Step 8: Convert extreme values back to OD space\n",
    "    # recreate the normalized image using reference mixing matrix \n",
    "    \n",
    "    Inorm = np.multiply(Io, np.exp(-HERef.dot(C2)))\n",
    "    Inorm[Inorm>255] = 254\n",
    "    Inorm = np.reshape(Inorm.T, (h, w, 3)).astype(np.uint8)  \n",
    "    \n",
    "    # Separating H and E components\n",
    "    \n",
    "    H = np.multiply(Io, np.exp(np.expand_dims(-HERef[:,0], axis=1).dot(np.expand_dims(C2[0,:], axis=0))))\n",
    "    H[H>255] = 254\n",
    "    H = np.reshape(H.T, (h, w, 3)).astype(np.uint8)\n",
    "    \n",
    "    E = np.multiply(Io, np.exp(np.expand_dims(-HERef[:,1], axis=1).dot(np.expand_dims(C2[1,:], axis=0))))\n",
    "    E[E>255] = 254\n",
    "    E = np.reshape(E.T, (h, w, 3)).astype(np.uint8)\n",
    "    \n",
    "    return (Inorm, H, E)"
   ]
  },
  {
   "cell_type": "markdown",
   "id": "f836c82a-f2e5-4b71-8100-897e4aee98a8",
   "metadata": {},
   "source": [
    "# Processing WSI's"
   ]
  },
  {
   "cell_type": "code",
   "execution_count": 5,
   "id": "bc241cfd-f3e6-42bd-91d0-79f7f27d0d65",
   "metadata": {},
   "outputs": [
    {
     "name": "stdout",
     "output_type": "stream",
     "text": [
      "Collecting tifffile\n",
      "  Downloading tifffile-2024.9.20-py3-none-any.whl.metadata (32 kB)\n",
      "Requirement already satisfied: numpy in c:\\anaconda\\envs\\myenv\\lib\\site-packages (from tifffile) (1.26.4)\n",
      "Downloading tifffile-2024.9.20-py3-none-any.whl (228 kB)\n",
      "Installing collected packages: tifffile\n",
      "Successfully installed tifffile-2024.9.20\n"
     ]
    }
   ],
   "source": [
    "!pip install tifffile"
   ]
  },
  {
   "cell_type": "code",
   "execution_count": 8,
   "id": "630a55c6-707a-4ac5-840c-a1245ba6c1cf",
   "metadata": {},
   "outputs": [],
   "source": [
    "OPENSLIDE_PATH = r\"C:\\openslide-bin-4.0.0.6-windows-x64\\bin\"\n",
    "import os\n",
    "if hasattr(os, 'add_dll_directory'):\n",
    "    # Windows\n",
    "    with os.add_dll_directory(OPENSLIDE_PATH):\n",
    "        from openslide import open_slide\n",
    "else:\n",
    "    from openslide import open_slide\n",
    "from PIL import Image\n",
    "import numpy as np\n",
    "from matplotlib import pyplot as plt\n",
    "import tifffile as tiff\n"
   ]
  },
  {
   "cell_type": "code",
   "execution_count": 9,
   "id": "3686c721-9ea8-4626-b81f-a706d2b02a70",
   "metadata": {},
   "outputs": [
    {
     "name": "stdout",
     "output_type": "stream",
     "text": [
      "<_PropertyMap {'aperio.AppMag': '40', 'aperio.DSR ID': 'resc3-dsr1', 'aperio.Date': '11/19/14', 'aperio.DisplayColor': '0', 'aperio.Exposure Scale': '0.000001', 'aperio.Exposure Time': '109', 'aperio.Filename': 'TCGA-3L-AA1B-01Z-00-DX2', 'aperio.Focus Offset': '0.000000', 'aperio.ICC Profile': 'ScanScope v1', 'aperio.ImageID': '164821', 'aperio.Left': '19.895947', 'aperio.LineAreaXOffset': '0.011464', 'aperio.LineAreaYOffset': '-0.002805', 'aperio.LineCameraSkew': '-0.000153', 'aperio.MPP': '0.2527', 'aperio.OriginalHeight': '52534', 'aperio.OriginalWidth': '89408', 'aperio.Parmset': 'GOG136', 'aperio.ScanScope ID': 'SS1764CNTLR', 'aperio.StripeWidth': '2032', 'aperio.Time': '17:38:27', 'aperio.Time Zone': 'GMT-05:00', 'aperio.Title': 'TCGA-3L-AA1B-01Z-00-DX2', 'aperio.Top': '19.350880', 'aperio.User': '79ba7f43-3d2d-48db-a92d-9bb62c29f510', 'openslide.associated.thumbnail.height': '612', 'openslide.associated.thumbnail.width': '1024', 'openslide.comment': 'Aperio Image Library v12.0.15 \\r\\n89408x52534 [0,100 87647x52434] (240x240) JPEG/RGB Q=30|AppMag = 40|StripeWidth = 2032|ScanScope ID = SS1764CNTLR|Filename = TCGA-3L-AA1B-01Z-00-DX2|Title = TCGA-3L-AA1B-01Z-00-DX2|Date = 11/19/14|Time = 17:38:27|Time Zone = GMT-05:00|User = 79ba7f43-3d2d-48db-a92d-9bb62c29f510|Parmset = GOG136|MPP = 0.2527|Left = 19.895947|Top = 19.350880|LineCameraSkew = -0.000153|LineAreaXOffset = 0.011464|LineAreaYOffset = -0.002805|Focus Offset = 0.000000|DSR ID = resc3-dsr1|ImageID = 164821|Exposure Time = 109|Exposure Scale = 0.000001|DisplayColor = 0|OriginalWidth = 89408|OriginalHeight = 52534|ICC Profile = ScanScope v1', 'openslide.icc-size': '141992', 'openslide.level-count': '4', 'openslide.level[0].downsample': '1', 'openslide.level[0].height': '52434', 'openslide.level[0].tile-height': '240', 'openslide.level[0].tile-width': '240', 'openslide.level[0].width': '87647', 'openslide.level[1].downsample': '4.0001447480539873', 'openslide.level[1].height': '13108', 'openslide.level[1].tile-height': '240', 'openslide.level[1].tile-width': '240', 'openslide.level[1].width': '21911', 'openslide.level[2].downsample': '16.001674519945784', 'openslide.level[2].height': '3277', 'openslide.level[2].tile-height': '240', 'openslide.level[2].tile-width': '240', 'openslide.level[2].width': '5477', 'openslide.level[3].downsample': '32.011155571966384', 'openslide.level[3].height': '1638', 'openslide.level[3].tile-height': '240', 'openslide.level[3].tile-width': '240', 'openslide.level[3].width': '2738', 'openslide.mpp-x': '0.25269999999999998', 'openslide.mpp-y': '0.25269999999999998', 'openslide.objective-power': '40', 'openslide.quickhash-1': '2f34de30c07decc9c1563cd4e9b948e3112168d7ab1c1b60838e9ee3780b8e23', 'openslide.vendor': 'aperio', 'tiff.ImageDescription': 'Aperio Image Library v12.0.15 \\r\\n89408x52534 [0,100 87647x52434] (240x240) JPEG/RGB Q=30|AppMag = 40|StripeWidth = 2032|ScanScope ID = SS1764CNTLR|Filename = TCGA-3L-AA1B-01Z-00-DX2|Title = TCGA-3L-AA1B-01Z-00-DX2|Date = 11/19/14|Time = 17:38:27|Time Zone = GMT-05:00|User = 79ba7f43-3d2d-48db-a92d-9bb62c29f510|Parmset = GOG136|MPP = 0.2527|Left = 19.895947|Top = 19.350880|LineCameraSkew = -0.000153|LineAreaXOffset = 0.011464|LineAreaYOffset = -0.002805|Focus Offset = 0.000000|DSR ID = resc3-dsr1|ImageID = 164821|Exposure Time = 109|Exposure Scale = 0.000001|DisplayColor = 0|OriginalWidth = 89408|OriginalHeight = 52534|ICC Profile = ScanScope v1', 'tiff.ResolutionUnit': 'inch'}>\n"
     ]
    }
   ],
   "source": [
    "#Load the slide file (svs) into an object.\n",
    "slide = open_slide(r\"C:\\Users\\lakho\\Desktop\\URECA\\Whole Slide Images .svs\\WSI 1.svs\")\n",
    "\n",
    "slide_props = slide.properties\n",
    "print(slide_props)"
   ]
  },
  {
   "cell_type": "code",
   "execution_count": 13,
   "id": "ff537376-2059-4999-825b-c40e38a0eab3",
   "metadata": {},
   "outputs": [
    {
     "name": "stdout",
     "output_type": "stream",
     "text": [
      "(87647, 52434)\n"
     ]
    }
   ],
   "source": [
    "print(slide.dimensions)"
   ]
  },
  {
   "cell_type": "code",
   "execution_count": 16,
   "id": "0ae49286-8112-40ba-894e-fab56f5afb0f",
   "metadata": {},
   "outputs": [
    {
     "name": "stderr",
     "output_type": "stream",
     "text": [
      "Clipping input data to the valid range for imshow with RGB data ([0..1] for floats or [0..255] for integers). Got range [0.0..255.0].\n"
     ]
    },
    {
     "ename": "AttributeError",
     "evalue": "module 'numpy' has no attribute 'float'.\n`np.float` was a deprecated alias for the builtin `float`. To avoid this error in existing code, use `float` by itself. Doing this will not modify any behavior and is safe. If you specifically wanted the numpy scalar type, use `np.float64` here.\nThe aliases was originally deprecated in NumPy 1.20; for more details and guidance see the original release note at:\n    https://numpy.org/devdocs/release/1.20.0-notes.html#deprecations",
     "output_type": "error",
     "traceback": [
      "\u001b[1;31m---------------------------------------------------------------------------\u001b[0m",
      "\u001b[1;31mAttributeError\u001b[0m                            Traceback (most recent call last)",
      "Cell \u001b[1;32mIn[16], line 10\u001b[0m\n\u001b[0;32m      7\u001b[0m plt\u001b[38;5;241m.\u001b[39maxis(\u001b[38;5;124m'\u001b[39m\u001b[38;5;124moff\u001b[39m\u001b[38;5;124m'\u001b[39m)\n\u001b[0;32m      8\u001b[0m plt\u001b[38;5;241m.\u001b[39mimshow(smaller_region_np)\n\u001b[1;32m---> 10\u001b[0m norm_img, H_img, E_img \u001b[38;5;241m=\u001b[39m norm_HnE(smaller_region_np, Io\u001b[38;5;241m=\u001b[39m\u001b[38;5;241m240\u001b[39m, alpha\u001b[38;5;241m=\u001b[39m\u001b[38;5;241m1\u001b[39m, beta\u001b[38;5;241m=\u001b[39m\u001b[38;5;241m0.15\u001b[39m)\n",
      "Cell \u001b[1;32mIn[2], line 28\u001b[0m, in \u001b[0;36mnorm_HnE\u001b[1;34m(img, Io, alpha, beta)\u001b[0m\n\u001b[0;32m     21\u001b[0m img \u001b[38;5;241m=\u001b[39m img\u001b[38;5;241m.\u001b[39mreshape((\u001b[38;5;241m-\u001b[39m\u001b[38;5;241m1\u001b[39m,\u001b[38;5;241m3\u001b[39m))\n\u001b[0;32m     23\u001b[0m \u001b[38;5;66;03m# calculate optical density\u001b[39;00m\n\u001b[0;32m     24\u001b[0m \u001b[38;5;66;03m# OD = −log10(I)  \u001b[39;00m\n\u001b[0;32m     25\u001b[0m \u001b[38;5;66;03m#OD = -np.log10(img+0.004)  #Use this when reading images with skimage\u001b[39;00m\n\u001b[0;32m     26\u001b[0m \u001b[38;5;66;03m#Adding 0.004 just to avoid log of zero. \u001b[39;00m\n\u001b[1;32m---> 28\u001b[0m OD \u001b[38;5;241m=\u001b[39m \u001b[38;5;241m-\u001b[39mnp\u001b[38;5;241m.\u001b[39mlog10((img\u001b[38;5;241m.\u001b[39mastype(np\u001b[38;5;241m.\u001b[39mfloat)\u001b[38;5;241m+\u001b[39m\u001b[38;5;241m1\u001b[39m)\u001b[38;5;241m/\u001b[39mIo) \u001b[38;5;66;03m#Use this for opencv imread\u001b[39;00m\n\u001b[0;32m     29\u001b[0m \u001b[38;5;66;03m#Add 1 in case any pixels in the image have a value of 0 (log 0 is indeterminate)\u001b[39;00m\n\u001b[0;32m     30\u001b[0m \n\u001b[0;32m     31\u001b[0m \n\u001b[0;32m     32\u001b[0m \u001b[38;5;66;03m############ Step 2: Remove data with OD intensity less than β ############\u001b[39;00m\n\u001b[0;32m     33\u001b[0m \u001b[38;5;66;03m# remove transparent pixels (clear region with no tissue)\u001b[39;00m\n\u001b[0;32m     34\u001b[0m ODhat \u001b[38;5;241m=\u001b[39m OD[\u001b[38;5;241m~\u001b[39mnp\u001b[38;5;241m.\u001b[39many(OD \u001b[38;5;241m<\u001b[39m beta, axis\u001b[38;5;241m=\u001b[39m\u001b[38;5;241m1\u001b[39m)] \u001b[38;5;66;03m#Returns an array where OD values are above beta\u001b[39;00m\n",
      "File \u001b[1;32mC:\\anaconda\\envs\\myenv\\Lib\\site-packages\\numpy\\__init__.py:324\u001b[0m, in \u001b[0;36m__getattr__\u001b[1;34m(attr)\u001b[0m\n\u001b[0;32m    319\u001b[0m     warnings\u001b[38;5;241m.\u001b[39mwarn(\n\u001b[0;32m    320\u001b[0m         \u001b[38;5;124mf\u001b[39m\u001b[38;5;124m\"\u001b[39m\u001b[38;5;124mIn the future `np.\u001b[39m\u001b[38;5;132;01m{\u001b[39;00mattr\u001b[38;5;132;01m}\u001b[39;00m\u001b[38;5;124m` will be defined as the \u001b[39m\u001b[38;5;124m\"\u001b[39m\n\u001b[0;32m    321\u001b[0m         \u001b[38;5;124m\"\u001b[39m\u001b[38;5;124mcorresponding NumPy scalar.\u001b[39m\u001b[38;5;124m\"\u001b[39m, \u001b[38;5;167;01mFutureWarning\u001b[39;00m, stacklevel\u001b[38;5;241m=\u001b[39m\u001b[38;5;241m2\u001b[39m)\n\u001b[0;32m    323\u001b[0m \u001b[38;5;28;01mif\u001b[39;00m attr \u001b[38;5;129;01min\u001b[39;00m __former_attrs__:\n\u001b[1;32m--> 324\u001b[0m     \u001b[38;5;28;01mraise\u001b[39;00m \u001b[38;5;167;01mAttributeError\u001b[39;00m(__former_attrs__[attr])\n\u001b[0;32m    326\u001b[0m \u001b[38;5;28;01mif\u001b[39;00m attr \u001b[38;5;241m==\u001b[39m \u001b[38;5;124m'\u001b[39m\u001b[38;5;124mtesting\u001b[39m\u001b[38;5;124m'\u001b[39m:\n\u001b[0;32m    327\u001b[0m     \u001b[38;5;28;01mimport\u001b[39;00m \u001b[38;5;21;01mnumpy\u001b[39;00m\u001b[38;5;21;01m.\u001b[39;00m\u001b[38;5;21;01mtesting\u001b[39;00m \u001b[38;5;28;01mas\u001b[39;00m \u001b[38;5;21;01mtesting\u001b[39;00m\n",
      "\u001b[1;31mAttributeError\u001b[0m: module 'numpy' has no attribute 'float'.\n`np.float` was a deprecated alias for the builtin `float`. To avoid this error in existing code, use `float` by itself. Doing this will not modify any behavior and is safe. If you specifically wanted the numpy scalar type, use `np.float64` here.\nThe aliases was originally deprecated in NumPy 1.20; for more details and guidance see the original release note at:\n    https://numpy.org/devdocs/release/1.20.0-notes.html#deprecations"
     ]
    },
    {
     "data": {
      "image/png": "[encoded data removed]",
      "text/plain": [
       "<Figure size 640x480 with 1 Axes>"
      ]
     },
     "metadata": {},
     "output_type": "display_data"
    }
   ],
   "source": [
    "#Extract a small region from the large file (level 0)\n",
    "#Let us extract a region from somewhere in the middle - coords 16k, 16k\n",
    "#Extract 1024,1024 region\n",
    "smaller_region = slide.read_region((40000,25000), 0, (1024,1024))\n",
    "smaller_region_RGB = smaller_region.convert('RGB')\n",
    "smaller_region_np = np.array(smaller_region_RGB, dtype=np.float64)\n",
    "plt.axis('off')\n",
    "plt.imshow(smaller_region_np)\n",
    "\n",
    "norm_img, H_img, E_img = norm_HnE(smaller_region_np, Io=240, alpha=1, beta=0.15)"
   ]
  },
  {
   "cell_type": "code",
   "execution_count": 17,
   "id": "dd025052-9673-48e8-8e22-127027e05936",
   "metadata": {},
   "outputs": [
    {
     "name": "stderr",
     "output_type": "stream",
     "text": [
      "Clipping input data to the valid range for imshow with RGB data ([0..1] for floats or [0..255] for integers). Got range [0.0..255.0].\n"
     ]
    },
    {
     "ename": "NameError",
     "evalue": "name 'norm_img' is not defined",
     "output_type": "error",
     "traceback": [
      "\u001b[1;31m---------------------------------------------------------------------------\u001b[0m",
      "\u001b[1;31mNameError\u001b[0m                                 Traceback (most recent call last)",
      "Cell \u001b[1;32mIn[17], line 7\u001b[0m\n\u001b[0;32m      5\u001b[0m plt\u001b[38;5;241m.\u001b[39msubplot(\u001b[38;5;241m222\u001b[39m)\n\u001b[0;32m      6\u001b[0m plt\u001b[38;5;241m.\u001b[39mtitle(\u001b[38;5;124m'\u001b[39m\u001b[38;5;124mNormalized Image\u001b[39m\u001b[38;5;124m'\u001b[39m)\n\u001b[1;32m----> 7\u001b[0m plt\u001b[38;5;241m.\u001b[39mimshow(norm_img)\n\u001b[0;32m      8\u001b[0m plt\u001b[38;5;241m.\u001b[39msubplot(\u001b[38;5;241m223\u001b[39m)\n\u001b[0;32m      9\u001b[0m plt\u001b[38;5;241m.\u001b[39mtitle(\u001b[38;5;124m'\u001b[39m\u001b[38;5;124mH image\u001b[39m\u001b[38;5;124m'\u001b[39m)\n",
      "\u001b[1;31mNameError\u001b[0m: name 'norm_img' is not defined"
     ]
    },
    {
     "data": {
      "image/png": "[encoded data removed]",
      "text/plain": [
       "<Figure size 1200x1200 with 2 Axes>"
      ]
     },
     "metadata": {},
     "output_type": "display_data"
    }
   ],
   "source": [
    "plt.figure(figsize=(12, 12))\n",
    "plt.subplot(221)\n",
    "plt.title('Original Image')\n",
    "plt.imshow(smaller_region_np)\n",
    "plt.subplot(222)\n",
    "plt.title('Normalized Image')\n",
    "plt.imshow(norm_img)\n",
    "plt.subplot(223)\n",
    "plt.title('H image')\n",
    "plt.imshow(H_img)\n",
    "plt.subplot(224)\n",
    "plt.title('E image')\n",
    "plt.imshow(E_img)\n",
    "plt.show()"
   ]
  }
 ],
 "metadata": {
  "kernelspec": {
   "display_name": "Python 3 (ipykernel)",
   "language": "python",
   "name": "python3"
  },
  "language_info": {
   "codemirror_mode": {
    "name": "ipython",
    "version": 3
   },
   "file_extension": ".py",
   "mimetype": "text/x-python",
   "name": "python",
   "nbconvert_exporter": "python",
   "pygments_lexer": "ipython3",
   "version": "3.11.10"
  }
 },
 "nbformat": 4,
 "nbformat_minor": 5
}
