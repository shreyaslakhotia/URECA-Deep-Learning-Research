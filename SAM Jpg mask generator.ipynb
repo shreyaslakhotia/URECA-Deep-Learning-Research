{
 "cells": [
  {
   "cell_type": "code",
   "execution_count": 5,
   "id": "e74004c7-accd-4350-89ec-0c0a305af4bc",
   "metadata": {},
   "outputs": [],
   "source": [
    "import torch\n",
    "import os\n",
    "from PIL import Image\n",
    "from segment_anything import sam_model_registry, SamPredictor\n",
    "import numpy as np"
   ]
  },
  {
   "cell_type": "code",
   "execution_count": 6,
   "id": "26325b5f-5ddb-4dcf-a1cc-26354df7167d",
   "metadata": {},
   "outputs": [],
   "source": [
    "def generate_masks(image_paths, output_dir, model_type=\"vit_b\", model_checkpoint=\"sam_vit_b.pth\"):\n",
    "    # Ensure output directory exists\n",
    "    if not os.path.exists(output_dir):\n",
    "        os.makedirs(output_dir)\n",
    "\n",
    "    # Load the SAM model\n",
    "    device = \"cuda\" if torch.cuda.is_available() else \"cpu\"\n",
    "    sam = sam_model_registry[model_type](checkpoint=model_checkpoint)\n",
    "    sam.to(device)\n",
    "    predictor = SamPredictor(sam)\n",
    "\n",
    "    # Process each image\n",
    "    for image_path in image_paths:\n",
    "        # Load the image\n",
    "        image = Image.open(image_path).convert(\"RGB\")\n",
    "        image_np = np.array(image)\n",
    "\n",
    "        # Set the image in the predictor\n",
    "        predictor.set_image(image_np)\n",
    "\n",
    "        # Generate masks (for simplicity, we use one point in the center of the image)\n",
    "        height, width = image_np.shape[:2]\n",
    "        center_point = np.array([[width // 2, height // 2]])\n",
    "        labels = np.array([1])  # Label the center point as \"foreground\"\n",
    "\n",
    "        # Generate mask predictions\n",
    "        masks, scores, logits = predictor.predict(point_coords=center_point, point_labels=labels)\n",
    "\n",
    "        # Save each mask as an image\n",
    "        base_name = os.path.splitext(os.path.basename(image_path))[0]\n",
    "        for i, mask in enumerate(masks):\n",
    "            mask_img = Image.fromarray(mask.astype(\"uint8\") * 255)  # Convert to binary mask (0 or 255)\n",
    "            mask_output_path = os.path.join(output_dir, f\"{base_name}_mask_{i}.png\")\n",
    "            mask_img.save(mask_output_path)\n",
    "            print(f\"Saved mask for {image_path} at {mask_output_path}\")\n"
   ]
  },
  {
   "cell_type": "code",
   "execution_count": 15,
   "id": "0504cdf6-44b6-4b9d-b0ba-e22d435b2d16",
   "metadata": {},
   "outputs": [],
   "source": [
    "image_paths = [\n",
    "    r\"C:\\Users\\lakho\\Desktop\\URECA\\Whole Slide Images .svs\\Level 1\\TCGA-A6-2678-01Z-00-DX1.bded5c5c-555a-492a-91c7-151492d0ee5e_level_1.jpg\",\n",
    "]\n",
    "output_dir = r\"C:\\Users\\lakho\\Desktop\\URECA\\Whole Slide Images .svs\\Level 1\\Masks\"\n",
    "model_checkpoint = r\"C:\\Users\\lakho\\Downloads\\sam_vit_b_01ec64.pth\""
   ]
  },
  {
   "cell_type": "code",
   "execution_count": 16,
   "id": "4dcc125b-0c9d-42a6-bd76-a26883fe7dc8",
   "metadata": {},
   "outputs": [
    {
     "ename": "DecompressionBombError",
     "evalue": "Image size (306473420 pixels) exceeds limit of 178956970 pixels, could be decompression bomb DOS attack.",
     "output_type": "error",
     "traceback": [
      "\u001b[1;31m---------------------------------------------------------------------------\u001b[0m",
      "\u001b[1;31mDecompressionBombError\u001b[0m                    Traceback (most recent call last)",
      "Cell \u001b[1;32mIn[16], line 1\u001b[0m\n\u001b[1;32m----> 1\u001b[0m generate_masks(image_paths, output_dir, model_type\u001b[38;5;241m=\u001b[39m\u001b[38;5;124m\"\u001b[39m\u001b[38;5;124mvit_b\u001b[39m\u001b[38;5;124m\"\u001b[39m, model_checkpoint\u001b[38;5;241m=\u001b[39mmodel_checkpoint)\n",
      "Cell \u001b[1;32mIn[6], line 15\u001b[0m, in \u001b[0;36mgenerate_masks\u001b[1;34m(image_paths, output_dir, model_type, model_checkpoint)\u001b[0m\n\u001b[0;32m     12\u001b[0m \u001b[38;5;66;03m# Process each image\u001b[39;00m\n\u001b[0;32m     13\u001b[0m \u001b[38;5;28;01mfor\u001b[39;00m image_path \u001b[38;5;129;01min\u001b[39;00m image_paths:\n\u001b[0;32m     14\u001b[0m     \u001b[38;5;66;03m# Load the image\u001b[39;00m\n\u001b[1;32m---> 15\u001b[0m     image \u001b[38;5;241m=\u001b[39m Image\u001b[38;5;241m.\u001b[39mopen(image_path)\u001b[38;5;241m.\u001b[39mconvert(\u001b[38;5;124m\"\u001b[39m\u001b[38;5;124mRGB\u001b[39m\u001b[38;5;124m\"\u001b[39m)\n\u001b[0;32m     16\u001b[0m     image_np \u001b[38;5;241m=\u001b[39m np\u001b[38;5;241m.\u001b[39marray(image)\n\u001b[0;32m     18\u001b[0m     \u001b[38;5;66;03m# Set the image in the predictor\u001b[39;00m\n",
      "File \u001b[1;32mC:\\anaconda\\envs\\myenv\\Lib\\site-packages\\PIL\\Image.py:3477\u001b[0m, in \u001b[0;36mopen\u001b[1;34m(fp, mode, formats)\u001b[0m\n\u001b[0;32m   3474\u001b[0m             \u001b[38;5;28;01mraise\u001b[39;00m\n\u001b[0;32m   3475\u001b[0m     \u001b[38;5;28;01mreturn\u001b[39;00m \u001b[38;5;28;01mNone\u001b[39;00m\n\u001b[1;32m-> 3477\u001b[0m im \u001b[38;5;241m=\u001b[39m _open_core(fp, filename, prefix, formats)\n\u001b[0;32m   3479\u001b[0m \u001b[38;5;28;01mif\u001b[39;00m im \u001b[38;5;129;01mis\u001b[39;00m \u001b[38;5;28;01mNone\u001b[39;00m \u001b[38;5;129;01mand\u001b[39;00m formats \u001b[38;5;129;01mis\u001b[39;00m ID:\n\u001b[0;32m   3480\u001b[0m     checked_formats \u001b[38;5;241m=\u001b[39m ID\u001b[38;5;241m.\u001b[39mcopy()\n",
      "File \u001b[1;32mC:\\anaconda\\envs\\myenv\\Lib\\site-packages\\PIL\\Image.py:3466\u001b[0m, in \u001b[0;36mopen.<locals>._open_core\u001b[1;34m(fp, filename, prefix, formats)\u001b[0m\n\u001b[0;32m   3464\u001b[0m         fp\u001b[38;5;241m.\u001b[39mseek(\u001b[38;5;241m0\u001b[39m)\n\u001b[0;32m   3465\u001b[0m         im \u001b[38;5;241m=\u001b[39m factory(fp, filename)\n\u001b[1;32m-> 3466\u001b[0m         _decompression_bomb_check(im\u001b[38;5;241m.\u001b[39msize)\n\u001b[0;32m   3467\u001b[0m         \u001b[38;5;28;01mreturn\u001b[39;00m im\n\u001b[0;32m   3468\u001b[0m \u001b[38;5;28;01mexcept\u001b[39;00m (\u001b[38;5;167;01mSyntaxError\u001b[39;00m, \u001b[38;5;167;01mIndexError\u001b[39;00m, \u001b[38;5;167;01mTypeError\u001b[39;00m, struct\u001b[38;5;241m.\u001b[39merror) \u001b[38;5;28;01mas\u001b[39;00m e:\n",
      "File \u001b[1;32mC:\\anaconda\\envs\\myenv\\Lib\\site-packages\\PIL\\Image.py:3365\u001b[0m, in \u001b[0;36m_decompression_bomb_check\u001b[1;34m(size)\u001b[0m\n\u001b[0;32m   3360\u001b[0m \u001b[38;5;28;01mif\u001b[39;00m pixels \u001b[38;5;241m>\u001b[39m \u001b[38;5;241m2\u001b[39m \u001b[38;5;241m*\u001b[39m MAX_IMAGE_PIXELS:\n\u001b[0;32m   3361\u001b[0m     msg \u001b[38;5;241m=\u001b[39m (\n\u001b[0;32m   3362\u001b[0m         \u001b[38;5;124mf\u001b[39m\u001b[38;5;124m\"\u001b[39m\u001b[38;5;124mImage size (\u001b[39m\u001b[38;5;132;01m{\u001b[39;00mpixels\u001b[38;5;132;01m}\u001b[39;00m\u001b[38;5;124m pixels) exceeds limit of \u001b[39m\u001b[38;5;132;01m{\u001b[39;00m\u001b[38;5;241m2\u001b[39m\u001b[38;5;250m \u001b[39m\u001b[38;5;241m*\u001b[39m\u001b[38;5;250m \u001b[39mMAX_IMAGE_PIXELS\u001b[38;5;132;01m}\u001b[39;00m\u001b[38;5;124m \u001b[39m\u001b[38;5;124m\"\u001b[39m\n\u001b[0;32m   3363\u001b[0m         \u001b[38;5;124m\"\u001b[39m\u001b[38;5;124mpixels, could be decompression bomb DOS attack.\u001b[39m\u001b[38;5;124m\"\u001b[39m\n\u001b[0;32m   3364\u001b[0m     )\n\u001b[1;32m-> 3365\u001b[0m     \u001b[38;5;28;01mraise\u001b[39;00m DecompressionBombError(msg)\n\u001b[0;32m   3367\u001b[0m \u001b[38;5;28;01mif\u001b[39;00m pixels \u001b[38;5;241m>\u001b[39m MAX_IMAGE_PIXELS:\n\u001b[0;32m   3368\u001b[0m     warnings\u001b[38;5;241m.\u001b[39mwarn(\n\u001b[0;32m   3369\u001b[0m         \u001b[38;5;124mf\u001b[39m\u001b[38;5;124m\"\u001b[39m\u001b[38;5;124mImage size (\u001b[39m\u001b[38;5;132;01m{\u001b[39;00mpixels\u001b[38;5;132;01m}\u001b[39;00m\u001b[38;5;124m pixels) exceeds limit of \u001b[39m\u001b[38;5;132;01m{\u001b[39;00mMAX_IMAGE_PIXELS\u001b[38;5;132;01m}\u001b[39;00m\u001b[38;5;124m pixels, \u001b[39m\u001b[38;5;124m\"\u001b[39m\n\u001b[0;32m   3370\u001b[0m         \u001b[38;5;124m\"\u001b[39m\u001b[38;5;124mcould be decompression bomb DOS attack.\u001b[39m\u001b[38;5;124m\"\u001b[39m,\n\u001b[0;32m   3371\u001b[0m         DecompressionBombWarning,\n\u001b[0;32m   3372\u001b[0m     )\n",
      "\u001b[1;31mDecompressionBombError\u001b[0m: Image size (306473420 pixels) exceeds limit of 178956970 pixels, could be decompression bomb DOS attack."
     ]
    }
   ],
   "source": [
    "generate_masks(image_paths, output_dir, model_type=\"vit_b\", model_checkpoint=model_checkpoint)\n"
   ]
  }
 ],
 "metadata": {
  "kernelspec": {
   "display_name": "Python 3 (ipykernel)",
   "language": "python",
   "name": "python3"
  },
  "language_info": {
   "codemirror_mode": {
    "name": "ipython",
    "version": 3
   },
   "file_extension": ".py",
   "mimetype": "text/x-python",
   "name": "python",
   "nbconvert_exporter": "python",
   "pygments_lexer": "ipython3",
   "version": "3.11.10"
  }
 },
 "nbformat": 4,
 "nbformat_minor": 5
}
