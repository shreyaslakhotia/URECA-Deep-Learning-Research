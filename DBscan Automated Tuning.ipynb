{
 "cells": [
  {
   "cell_type": "code",
   "execution_count": 2,
   "id": "63425134-de5f-4a7a-b221-99839637d6f4",
   "metadata": {},
   "outputs": [],
   "source": [
    "import numpy as np\n",
    "import cv2\n",
    "from tensorflow.keras.applications import VGG16\n",
    "from tensorflow.keras.preprocessing.image import img_to_array, load_img\n",
    "from sklearn.cluster import DBSCAN\n",
    "from sklearn.metrics import silhouette_score\n",
    "from sklearn.decomposition import PCA\n",
    "import itertools\n"
   ]
  },
  {
   "cell_type": "code",
   "execution_count": 3,
   "id": "60118d2e-154d-4743-b3fb-ccdb769abfea",
   "metadata": {},
   "outputs": [
    {
     "name": "stdout",
     "output_type": "stream",
     "text": [
      "Downloading data from https://storage.googleapis.com/tensorflow/keras-applications/vgg16/vgg16_weights_tf_dim_ordering_tf_kernels_notop.h5\n",
      "\u001b[1m58889256/58889256\u001b[0m \u001b[32m━━━━━━━━━━━━━━━━━━━━\u001b[0m\u001b[37m\u001b[0m \u001b[1m4s\u001b[0m 0us/step\n"
     ]
    }
   ],
   "source": [
    "vgg_model = VGG16(weights='imagenet', include_top=False, input_shape=(256, 256, 3))\n",
    "\n",
    "# Define the paths to patches\n",
    "png_paths = [\n",
    "    r\"C:\\Users\\lakho\\Desktop\\URECA\\Whole Slide Images .svs\\WSI 1 Tiles\\132_100.png\",\n",
    "    r\"C:\\Users\\lakho\\Desktop\\URECA\\Whole Slide Images .svs\\WSI 1 Tiles\\132_105.png\",\n",
    "    r\"C:\\Users\\lakho\\Desktop\\URECA\\Whole Slide Images .svs\\WSI 1 Tiles\\132_117.png\",\n",
    "    r\"C:\\Users\\lakho\\Desktop\\URECA\\Whole Slide Images .svs\\WSI 1 Tiles\\132_126.png\",\n",
    "    r\"C:\\Users\\lakho\\Desktop\\URECA\\Whole Slide Images .svs\\WSI 1 Tiles\\132_127.png\"\n",
    "]\n"
   ]
  },
  {
   "cell_type": "code",
   "execution_count": 4,
   "id": "7d93c8f3-0f8b-46f5-8a34-fff7933ecf3e",
   "metadata": {},
   "outputs": [],
   "source": [
    "def extract_features(image_path):\n",
    "    image = load_img(image_path, target_size=(256, 256))\n",
    "    image = img_to_array(image)\n",
    "    image = np.expand_dims(image, axis=0)\n",
    "    features = vgg_model.predict(image)\n",
    "    return features.flatten()\n"
   ]
  },
  {
   "cell_type": "code",
   "execution_count": 8,
   "id": "364e6cf3-ef23-4e95-9b7a-dc4bf460778b",
   "metadata": {},
   "outputs": [
    {
     "name": "stdout",
     "output_type": "stream",
     "text": [
      "\u001b[1m1/1\u001b[0m \u001b[32m━━━━━━━━━━━━━━━━━━━━\u001b[0m\u001b[37m\u001b[0m \u001b[1m0s\u001b[0m 431ms/step\n",
      "\u001b[1m1/1\u001b[0m \u001b[32m━━━━━━━━━━━━━━━━━━━━\u001b[0m\u001b[37m\u001b[0m \u001b[1m0s\u001b[0m 489ms/step\n",
      "\u001b[1m1/1\u001b[0m \u001b[32m━━━━━━━━━━━━━━━━━━━━\u001b[0m\u001b[37m\u001b[0m \u001b[1m0s\u001b[0m 493ms/step\n",
      "\u001b[1m1/1\u001b[0m \u001b[32m━━━━━━━━━━━━━━━━━━━━\u001b[0m\u001b[37m\u001b[0m \u001b[1m0s\u001b[0m 462ms/step\n",
      "\u001b[1m1/1\u001b[0m \u001b[32m━━━━━━━━━━━━━━━━━━━━\u001b[0m\u001b[37m\u001b[0m \u001b[1m0s\u001b[0m 444ms/step\n"
     ]
    }
   ],
   "source": [
    "features = [extract_features(path) for path in png_paths]\n",
    "features = np.array(features)\n",
    "\n",
    "# Dimensionality Reduction\n",
    "pca = PCA(n_components=5)\n",
    "features_pca = pca.fit_transform(features)\n",
    "\n",
    "# Adjusted parameter ranges\n",
    "eps_values = np.arange(0.1, 15, 0.5)\n",
    "min_samples_values = range(2, 20, 2)\n",
    "best_params = {}\n",
    "best_score = -1\n"
   ]
  },
  {
   "cell_type": "code",
   "execution_count": 9,
   "id": "e8a14c1d-a150-4dbd-a71d-0b4cd47ff86c",
   "metadata": {},
   "outputs": [
    {
     "name": "stdout",
     "output_type": "stream",
     "text": [
      "Best Parameters: {}\n",
      "Best Silhouette Score: -1\n"
     ]
    }
   ],
   "source": [
    "# Grid search over the parameter space\n",
    "for eps, min_samples in itertools.product(eps_values, min_samples_values):\n",
    "    # Apply DBSCAN\n",
    "    db = DBSCAN(eps=eps, min_samples=min_samples).fit(features_pca)\n",
    "    labels = db.labels_\n",
    "    \n",
    "    # Only calculate silhouette score if there is more than one cluster\n",
    "    if len(set(labels)) > 1 and -1 not in set(labels):  # Avoid if all points are noise or only one cluster\n",
    "        score = silhouette_score(features_pca, labels)\n",
    "        \n",
    "        # Update best parameters if score is better\n",
    "        if score > best_score:\n",
    "            best_score = score\n",
    "            best_params = {\"eps\": eps, \"min_samples\": min_samples}\n",
    "\n",
    "print(\"Best Parameters:\", best_params)\n",
    "print(\"Best Silhouette Score:\", best_score)"
   ]
  }
 ],
 "metadata": {
  "kernelspec": {
   "display_name": "Python 3 (ipykernel)",
   "language": "python",
   "name": "python3"
  },
  "language_info": {
   "codemirror_mode": {
    "name": "ipython",
    "version": 3
   },
   "file_extension": ".py",
   "mimetype": "text/x-python",
   "name": "python",
   "nbconvert_exporter": "python",
   "pygments_lexer": "ipython3",
   "version": "3.11.10"
  }
 },
 "nbformat": 4,
 "nbformat_minor": 5
}
